{
 "cells": [
  {
   "cell_type": "markdown",
   "metadata": {},
   "source": [
    "# Detect distracted drivers\n",
    "*Cyril Pecoraro - June 1st 2018*\n",
    "\n",
    "The goal is to predict what the driver is doing based on pictures\n",
    "\n",
    "This project is from a [Kaggle competition : State Farm Distracted Driver Detection\n",
    "](https://www.kaggle.com/c/state-farm-distracted-driver-detection)\n",
    "\n",
    "There are 10 classes to predict:\n",
    "* c0: safe driving\n",
    "* c1: texting - right\n",
    "* c2: talking on the phone - right\n",
    "* c3: texting - left\n",
    "* c4: talking on the phone - left\n",
    "* c5: operating the radio\n",
    "* c6: drinking\n",
    "* c7: reaching behind\n",
    "* c8: hair and makeup\n",
    "* c9: talking to passenger\n",
    "\n",
    "### Explanation of my work\n",
    "\n",
    "I used a pre-trained VGG-16 Convolutional Neural Network as a base layer. I then removed the last layer (=top layer) and added a Dense layer with a softmax to output the classification. The optimization algorithm is Adam with a small learning rate: **/tofill/**  . \n",
    "\n",
    "\n",
    "The used the weights trained VGG-16 on the image-net dataset for the initializatzion. All the layers beside the last **/tofill/**  were frozen. I then performed data augmentation because the training set is not big. I fine tuned the model using the training set and a validation set (33% split)\n",
    "\n",
    "I used the Keras library as much as possible in this project as it allows to prototype quickly and surely. I used the dataflow and datagen functions to load the file and preprocess them while feeding them by batches directly to the model.\n",
    "\n",
    "\n",
    "**/tofill/** epochs were used. The learning_rate, number of epochs and numbers of layers to freeze values were determined by several experiments, not shown here. \n",
    "\n",
    "\n",
    "The framework was run on a Google Cloud Virtual Machine with a Tesla K80 GPU.\n",
    "\n",
    "#### To predict:\n",
    "* Run the last cell of this notebook\n",
    "* Or use the script `predict.py [Model/model_name]` with the desired model to obtain prediction and generate a .csv file for Kaggle.\n",
    "\n",
    "### Content:\n",
    "\n",
    "1. Model building\n",
    "2. Preprocessing and data augmentation\n",
    "3. Train\n",
    "4. Predict"
   ]
  },
  {
   "cell_type": "markdown",
   "metadata": {},
   "source": [
    "#### Config to adjust:"
   ]
  },
  {
   "cell_type": "code",
   "execution_count": 1,
   "metadata": {},
   "outputs": [],
   "source": [
    "# Params \n",
    "batch_size = 144 # Try 48; 72; 109; 144; 218; 327 depending on the computing power\n",
    "n_epoch = 20\n",
    "learning_rate = 0.0001\n",
    "n_layers_train = 3 # last n_layers_train layers will be trained"
   ]
  },
  {
   "cell_type": "code",
   "execution_count": 2,
   "metadata": {},
   "outputs": [
    {
     "name": "stderr",
     "output_type": "stream",
     "text": [
      "Using TensorFlow backend.\n"
     ]
    }
   ],
   "source": [
    "import pandas as pd\n",
    "import cv2\n",
    "import os \n",
    "import glob\n",
    "import gc\n",
    "from joblib import Parallel, delayed\n",
    "\n",
    "import numpy as np\n",
    "import matplotlib.pyplot as plt\n",
    "import matplotlib.image as mpli\n",
    "% matplotlib inline\n",
    "import warnings\n",
    "warnings.filterwarnings(\"ignore\", module=\"matplotlib\")\n",
    "pd.options.mode.chained_assignment = None\n",
    "\n",
    "from sklearn.model_selection import train_test_split\n",
    "from sklearn.metrics import log_loss\n",
    "\n",
    "from keras.applications import vgg16\n",
    "from keras.preprocessing import image\n",
    "from keras import optimizers, callbacks\n",
    "from keras.models import Sequential, load_model, Model\n",
    "from keras.layers import Flatten, Dense \n",
    "from keras.utils import to_categorical\n",
    "from tensorflow.python.client import device_lib\n",
    "import tensorflow as tf\n",
    "\n",
    "from livelossplot import PlotLossesKeras\n"
   ]
  },
  {
   "cell_type": "markdown",
   "metadata": {},
   "source": [
    "\n",
    "First we can observe the distribution of samples per class. This is important as it is a classification problem. In order to avoid the [accuracy paradox](https://en.wikipedia.org/wiki/Accuracy_paradox), we don't want to have classes too imbalanced. Here the classes are pretty well balanced. All good !\n"
   ]
  },
  {
   "cell_type": "code",
   "execution_count": 3,
   "metadata": {},
   "outputs": [
    {
     "data": {
      "image/png": "[encoded data removed]",
      "text/plain": [
       "<matplotlib.figure.Figure at 0x7eff06b92cf8>"
      ]
     },
     "metadata": {},
     "output_type": "display_data"
    }
   ],
   "source": [
    "img_list = pd.read_csv('Data/driver_imgs_list.csv')\n",
    "\n",
    "img_list['class_type'] = img_list['classname'].str.extract('(\\d)',expand=False).astype(np.int)\n",
    "plt.figure()\n",
    "img_list.groupby(['class_type'])['subject'].count().plot(kind='bar',alpha=0.9, layout=(1,1), color='b')\n",
    "plt.title('class distribution')\n",
    "plt.xticks(range(0,11))\n",
    "plt.xlabel('Class')\n",
    "plt.show()\n"
   ]
  },
  {
   "cell_type": "markdown",
   "metadata": {},
   "source": [
    "## 1. Data loading and preprocessing\n",
    "\n",
    "To load the files quickly, I use a multi-processor approach which allows to multiply by at least 5 the loading speed.\n",
    "\n",
    "The data is split in a train/validation set. Then I use data augmentation with transformation to increase the size of the training set."
   ]
  },
  {
   "cell_type": "code",
   "execution_count": 4,
   "metadata": {},
   "outputs": [],
   "source": [
    "def load_image(img_file, img_reshape_size):\n",
    "    \"\"\"Load an image\n",
    "    Args:\n",
    "    - img_file: image file\n",
    "    - img_reshape_size: shape(w,h) to resize the image\n",
    "    Return:\n",
    "    - img: openCV image\n",
    "    \"\"\"   \n",
    "    img = cv2.imread(img_file)\n",
    "    img = cv2.resize(img, img_reshape_size)\n",
    "    #img = cv2.cvtColor(img, cv2.COLOR_BGR2RGB)\n",
    "    #img = preprocessing_function=vgg16.preprocess_input(img)\n",
    "  \n",
    "    return img\n",
    "\n",
    "def load_train_dataset(dataset_dir, img_reshape_size, nprocs=10):\n",
    "    \"\"\"Load the images located in the main folder dataset_dir Each class is in a separate subfolder\n",
    "    Args:\n",
    "    - dataset_dir: path to the directory containing subdirectories of images\n",
    "    - img_reshape_size: shape(w,h) to resize the image\n",
    "    - nprocs:Number of processors to use\n",
    "    Return:\n",
    "    - X: numpy array with each image data as a row\n",
    "    - y: numpy array with each class as an integer for each image\n",
    "    \"\"\"\n",
    "    X = []\n",
    "    y = []\n",
    "    # Train dataset\n",
    "    for i in range(10):\n",
    "        path = os.path.join(dataset_dir, 'c'+str(i),'*.jpg')\n",
    "        files = glob.glob(path)\n",
    "\n",
    "        X.extend(Parallel(n_jobs=nprocs)(delayed(load_image)(im_file, img_reshape_size) for im_file in files))\n",
    "        y.extend([i]*len(files))\n",
    "        print('folder train/c'+str(i), 'loaded')\n",
    "\n",
    "    X = np.asarray(X, dtype=np.float16)\n",
    "    y = np.asarray(y)\n",
    "    return X, y"
   ]
  },
  {
   "cell_type": "code",
   "execution_count": 5,
   "metadata": {},
   "outputs": [
    {
     "name": "stdout",
     "output_type": "stream",
     "text": [
      "Load dataset train\n",
      "folder train/c0 loaded\n",
      "folder train/c1 loaded\n",
      "folder train/c2 loaded\n",
      "folder train/c3 loaded\n",
      "folder train/c4 loaded\n",
      "folder train/c5 loaded\n",
      "folder train/c6 loaded\n",
      "folder train/c7 loaded\n",
      "folder train/c8 loaded\n",
      "folder train/c9 loaded\n",
      "X_train shape: (15696, 224, 224, 3)\n",
      "y_train shape: (15696, 10)\n",
      "X_val shape: (6728, 224, 224, 3)\n",
      "y_val shape: (6728, 10)\n"
     ]
    }
   ],
   "source": [
    "# Image sizes - Requirements of the CNN model\n",
    "img_reshape_size = (224,224)\n",
    "\n",
    "# Working directories\n",
    "dataset_dir = 'Data'\n",
    "dataset_dir_train = os.path.join(dataset_dir, 'train')\n",
    "\n",
    "# Load train dataset\n",
    "print('Load dataset train')\n",
    "X_train_, y_train_ = load_train_dataset(dataset_dir_train, img_reshape_size)\n",
    "X_train_[:, :, :, 0] -= 103.939\n",
    "X_train_[:, :, :, 1] -= 116.779\n",
    "X_train_[:, :, :, 2] -= 123.68   \n",
    "        \n",
    "        # Creation of a validation set\n",
    "X_train, X_val, y_train, y_val = train_test_split(X_train_, y_train_, \n",
    "                                                  test_size=0.3, \n",
    "                                                  random_state=35)\n",
    "\n",
    "# One hot encoding of the classes\n",
    "y_train = to_categorical(y_train)\n",
    "y_val = to_categorical(y_val)\n",
    "\n",
    "# Shapes \n",
    "print('X_train shape:', X_train.shape)\n",
    "print('y_train shape:', y_train.shape)#\n",
    "print('X_val shape:', X_val.shape)\n",
    "print('y_val shape:', y_val.shape)\n",
    "\n",
    "# Image Data Generator for preprocessing and data augmentation\n",
    "train_datagen = image.ImageDataGenerator(\n",
    "        width_shift_range=0.1,\n",
    "        height_shift_range=0.1,\n",
    "        shear_range=0.1,\n",
    "        rotation_range=8,\n",
    "        fill_mode='nearest'\n",
    "                                        )\n",
    "\n",
    "train_generator = train_datagen.flow(x=X_train, y=y_train,\n",
    "                            batch_size=batch_size,\n",
    "                            shuffle=False,\n",
    "                            seed=42)"
   ]
  },
  {
   "cell_type": "markdown",
   "metadata": {},
   "source": [
    "## 2. Model building\n",
    "\n",
    "I use the VGG16 implementation and I remove the last layer to add a layer that suits my needs. In this case it is a 10 Fully connected layer so that I can use the CNN as a 10-class classifier."
   ]
  },
  {
   "cell_type": "code",
   "execution_count": 6,
   "metadata": {},
   "outputs": [],
   "source": [
    "def create_VGG16_model(n_classes=10, n_layers_train=2, learning_rate=0.0001):\n",
    "    \"\"\"Load the images located in the main folder dataset_dir Each class is in a separate subfolder\n",
    "    Args:\n",
    "    - n_classes: number of classes to predict for the classifier\n",
    "    - n_layers_train: number of last layers to train. The other layers will be frozen.\n",
    "    Return:\n",
    "    - model: Keras model\n",
    "    \"\"\"\n",
    "    #Load the VGG model\n",
    "    vgg16_base = vgg16.VGG16(weights='imagenet', include_top=True, input_shape=(224,224,3))    \n",
    "\n",
    "    # Remove top layer and connect custom dense layer\n",
    "    fc2 = vgg16_base.get_layer('fc2').output\n",
    "    mypredictions = Dense(n_classes, activation='softmax', name='mypredictions')(fc2)\n",
    "    model = Model(inputs=vgg16_base.input, outputs=mypredictions)\n",
    "    \n",
    "    model.summary()\n",
    "    # Freeze the layers except the last n_layers_train layers\n",
    "    for layer in model.layers[:-n_layers_train]:\n",
    "        layer.trainable = False\n",
    "    for layer in model.layers[:]:\n",
    "        print(layer, layer.trainable)    \n",
    "\n",
    "\n",
    "    model.compile(loss='categorical_crossentropy',\n",
    "          optimizer=optimizers.Adam(lr=learning_rate),\n",
    "          metrics=['accuracy'])\n",
    "\n",
    "    model.summary()\n",
    "    return model"
   ]
  },
  {
   "cell_type": "code",
   "execution_count": 7,
   "metadata": {},
   "outputs": [
    {
     "name": "stdout",
     "output_type": "stream",
     "text": [
      "_________________________________________________________________\n",
      "Layer (type)                 Output Shape              Param #   \n",
      "=================================================================\n",
      "input_1 (InputLayer)         (None, 224, 224, 3)       0         \n",
      "_________________________________________________________________\n",
      "block1_conv1 (Conv2D)        (None, 224, 224, 64)      1792      \n",
      "_________________________________________________________________\n",
      "block1_conv2 (Conv2D)        (None, 224, 224, 64)      36928     \n",
      "_________________________________________________________________\n",
      "block1_pool (MaxPooling2D)   (None, 112, 112, 64)      0         \n",
      "_________________________________________________________________\n",
      "block2_conv1 (Conv2D)        (None, 112, 112, 128)     73856     \n",
      "_________________________________________________________________\n",
      "block2_conv2 (Conv2D)        (None, 112, 112, 128)     147584    \n",
      "_________________________________________________________________\n",
      "block2_pool (MaxPooling2D)   (None, 56, 56, 128)       0         \n",
      "_________________________________________________________________\n",
      "block3_conv1 (Conv2D)        (None, 56, 56, 256)       295168    \n",
      "_________________________________________________________________\n",
      "block3_conv2 (Conv2D)        (None, 56, 56, 256)       590080    \n",
      "_________________________________________________________________\n",
      "block3_conv3 (Conv2D)        (None, 56, 56, 256)       590080    \n",
      "_________________________________________________________________\n",
      "block3_pool (MaxPooling2D)   (None, 28, 28, 256)       0         \n",
      "_________________________________________________________________\n",
      "block4_conv1 (Conv2D)        (None, 28, 28, 512)       1180160   \n",
      "_________________________________________________________________\n",
      "block4_conv2 (Conv2D)        (None, 28, 28, 512)       2359808   \n",
      "_________________________________________________________________\n",
      "block4_conv3 (Conv2D)        (None, 28, 28, 512)       2359808   \n",
      "_________________________________________________________________\n",
      "block4_pool (MaxPooling2D)   (None, 14, 14, 512)       0         \n",
      "_________________________________________________________________\n",
      "block5_conv1 (Conv2D)        (None, 14, 14, 512)       2359808   \n",
      "_________________________________________________________________\n",
      "block5_conv2 (Conv2D)        (None, 14, 14, 512)       2359808   \n",
      "_________________________________________________________________\n",
      "block5_conv3 (Conv2D)        (None, 14, 14, 512)       2359808   \n",
      "_________________________________________________________________\n",
      "block5_pool (MaxPooling2D)   (None, 7, 7, 512)         0         \n",
      "_________________________________________________________________\n",
      "flatten (Flatten)            (None, 25088)             0         \n",
      "_________________________________________________________________\n",
      "fc1 (Dense)                  (None, 4096)              102764544 \n",
      "_________________________________________________________________\n",
      "fc2 (Dense)                  (None, 4096)              16781312  \n",
      "_________________________________________________________________\n",
      "mypredictions (Dense)        (None, 10)                40970     \n",
      "=================================================================\n",
      "Total params: 134,301,514\n",
      "Trainable params: 134,301,514\n",
      "Non-trainable params: 0\n",
      "_________________________________________________________________\n",
      "<keras.engine.input_layer.InputLayer object at 0x7eff06b92358> False\n",
      "<keras.layers.convolutional.Conv2D object at 0x7eff06b92748> False\n",
      "<keras.layers.convolutional.Conv2D object at 0x7eff06b92780> False\n",
      "<keras.layers.pooling.MaxPooling2D object at 0x7eff06b922b0> False\n",
      "<keras.layers.convolutional.Conv2D object at 0x7eff04942860> False\n",
      "<keras.layers.convolutional.Conv2D object at 0x7eff04973e48> False\n",
      "<keras.layers.pooling.MaxPooling2D object at 0x7eff0497e3c8> False\n",
      "<keras.layers.convolutional.Conv2D object at 0x7eff04931d30> False\n",
      "<keras.layers.convolutional.Conv2D object at 0x7eff049318d0> False\n",
      "<keras.layers.convolutional.Conv2D object at 0x7eff049bedd8> False\n",
      "<keras.layers.pooling.MaxPooling2D object at 0x7eff049ab080> False\n",
      "<keras.layers.convolutional.Conv2D object at 0x7eff04961d30> False\n",
      "<keras.layers.convolutional.Conv2D object at 0x7eff049d1f98> False\n",
      "<keras.layers.convolutional.Conv2D object at 0x7eff049085c0> False\n",
      "<keras.layers.pooling.MaxPooling2D object at 0x7effa9cb3f28> False\n",
      "<keras.layers.convolutional.Conv2D object at 0x7effa9ccdf60> False\n",
      "<keras.layers.convolutional.Conv2D object at 0x7effa9a9f2e8> False\n",
      "<keras.layers.convolutional.Conv2D object at 0x7effa9ab5ac8> False\n",
      "<keras.layers.pooling.MaxPooling2D object at 0x7effa9c59fd0> False\n",
      "<keras.layers.core.Flatten object at 0x7effa9c86080> False\n",
      "<keras.layers.core.Dense object at 0x7effa9c86390> True\n",
      "<keras.layers.core.Dense object at 0x7effa9c2f8d0> True\n",
      "<keras.layers.core.Dense object at 0x7effa9bf67b8> True\n",
      "_________________________________________________________________\n",
      "Layer (type)                 Output Shape              Param #   \n",
      "=================================================================\n",
      "input_1 (InputLayer)         (None, 224, 224, 3)       0         \n",
      "_________________________________________________________________\n",
      "block1_conv1 (Conv2D)        (None, 224, 224, 64)      1792      \n",
      "_________________________________________________________________\n",
      "block1_conv2 (Conv2D)        (None, 224, 224, 64)      36928     \n",
      "_________________________________________________________________\n",
      "block1_pool (MaxPooling2D)   (None, 112, 112, 64)      0         \n",
      "_________________________________________________________________\n",
      "block2_conv1 (Conv2D)        (None, 112, 112, 128)     73856     \n",
      "_________________________________________________________________\n",
      "block2_conv2 (Conv2D)        (None, 112, 112, 128)     147584    \n",
      "_________________________________________________________________\n",
      "block2_pool (MaxPooling2D)   (None, 56, 56, 128)       0         \n",
      "_________________________________________________________________\n",
      "block3_conv1 (Conv2D)        (None, 56, 56, 256)       295168    \n",
      "_________________________________________________________________\n",
      "block3_conv2 (Conv2D)        (None, 56, 56, 256)       590080    \n",
      "_________________________________________________________________\n",
      "block3_conv3 (Conv2D)        (None, 56, 56, 256)       590080    \n",
      "_________________________________________________________________\n",
      "block3_pool (MaxPooling2D)   (None, 28, 28, 256)       0         \n",
      "_________________________________________________________________\n",
      "block4_conv1 (Conv2D)        (None, 28, 28, 512)       1180160   \n",
      "_________________________________________________________________\n",
      "block4_conv2 (Conv2D)        (None, 28, 28, 512)       2359808   \n",
      "_________________________________________________________________\n",
      "block4_conv3 (Conv2D)        (None, 28, 28, 512)       2359808   \n",
      "_________________________________________________________________\n",
      "block4_pool (MaxPooling2D)   (None, 14, 14, 512)       0         \n",
      "_________________________________________________________________\n",
      "block5_conv1 (Conv2D)        (None, 14, 14, 512)       2359808   \n",
      "_________________________________________________________________\n",
      "block5_conv2 (Conv2D)        (None, 14, 14, 512)       2359808   \n",
      "_________________________________________________________________\n",
      "block5_conv3 (Conv2D)        (None, 14, 14, 512)       2359808   \n",
      "_________________________________________________________________\n",
      "block5_pool (MaxPooling2D)   (None, 7, 7, 512)         0         \n",
      "_________________________________________________________________\n",
      "flatten (Flatten)            (None, 25088)             0         \n",
      "_________________________________________________________________\n",
      "fc1 (Dense)                  (None, 4096)              102764544 \n",
      "_________________________________________________________________\n",
      "fc2 (Dense)                  (None, 4096)              16781312  \n",
      "_________________________________________________________________\n",
      "mypredictions (Dense)        (None, 10)                40970     \n",
      "=================================================================\n",
      "Total params: 134,301,514\n",
      "Trainable params: 119,586,826\n",
      "Non-trainable params: 14,714,688\n",
      "_________________________________________________________________\n"
     ]
    }
   ],
   "source": [
    "# Create and compile model\n",
    "model = create_VGG16_model(n_layers_train=n_layers_train, learning_rate=learning_rate)\n"
   ]
  },
  {
   "cell_type": "markdown",
   "metadata": {},
   "source": [
    "## 3. Train"
   ]
  },
  {
   "cell_type": "code",
   "execution_count": 8,
   "metadata": {
    "scrolled": false
   },
   "outputs": [
    {
     "name": "stdout",
     "output_type": "stream",
     "text": [
      "Epoch 1/20\n",
      "109/109 [==============================] - 277s 3s/step - loss: 0.5615 - acc: 0.8248 - val_loss: 0.0736 - val_acc: 0.9793\n",
      "Epoch 2/20\n",
      "109/109 [==============================] - 256s 2s/step - loss: 0.0798 - acc: 0.9733 - val_loss: 0.0805 - val_acc: 0.9729\n",
      "Epoch 3/20\n",
      "109/109 [==============================] - 257s 2s/step - loss: 0.0615 - acc: 0.9801 - val_loss: 0.0348 - val_acc: 0.9902\n",
      "Epoch 4/20\n",
      "109/109 [==============================] - 256s 2s/step - loss: 0.0439 - acc: 0.9854 - val_loss: 0.0487 - val_acc: 0.9848\n",
      "Epoch 5/20\n",
      "109/109 [==============================] - 256s 2s/step - loss: 0.0455 - acc: 0.9850 - val_loss: 0.0448 - val_acc: 0.9857\n",
      "Epoch 6/20\n",
      "109/109 [==============================] - 256s 2s/step - loss: 0.0357 - acc: 0.9885 - val_loss: 0.0307 - val_acc: 0.9911\n",
      "Epoch 7/20\n",
      "109/109 [==============================] - 256s 2s/step - loss: 0.0373 - acc: 0.9890 - val_loss: 0.0236 - val_acc: 0.9930\n",
      "Epoch 8/20\n",
      "109/109 [==============================] - 255s 2s/step - loss: 0.0416 - acc: 0.9880 - val_loss: 0.0158 - val_acc: 0.9960\n",
      "Epoch 9/20\n",
      "109/109 [==============================] - 256s 2s/step - loss: 0.0243 - acc: 0.9925 - val_loss: 0.0175 - val_acc: 0.9952\n",
      "Epoch 10/20\n",
      "109/109 [==============================] - 256s 2s/step - loss: 0.0228 - acc: 0.9927 - val_loss: 0.0284 - val_acc: 0.9914\n",
      "Epoch 11/20\n",
      "109/109 [==============================] - 255s 2s/step - loss: 0.0276 - acc: 0.9917 - val_loss: 0.0305 - val_acc: 0.9936\n",
      "Epoch 12/20\n",
      "109/109 [==============================] - 255s 2s/step - loss: 0.0319 - acc: 0.9907 - val_loss: 0.0176 - val_acc: 0.9945\n",
      "Epoch 13/20\n",
      "109/109 [==============================] - 256s 2s/step - loss: 0.0223 - acc: 0.9931 - val_loss: 0.0197 - val_acc: 0.9958\n",
      "Epoch 14/20\n",
      "109/109 [==============================] - 256s 2s/step - loss: 0.0267 - acc: 0.9910 - val_loss: 0.0266 - val_acc: 0.9938\n",
      "Epoch 15/20\n",
      "109/109 [==============================] - 255s 2s/step - loss: 0.0179 - acc: 0.9943 - val_loss: 0.0245 - val_acc: 0.9960\n",
      "Epoch 16/20\n",
      "109/109 [==============================] - 254s 2s/step - loss: 0.0189 - acc: 0.9947 - val_loss: 0.0149 - val_acc: 0.9964\n",
      "Epoch 17/20\n",
      "109/109 [==============================] - 255s 2s/step - loss: 0.0196 - acc: 0.9939 - val_loss: 0.0492 - val_acc: 0.9896\n",
      "Epoch 18/20\n",
      "109/109 [==============================] - 256s 2s/step - loss: 0.0212 - acc: 0.9940 - val_loss: 0.0174 - val_acc: 0.9967\n",
      "Epoch 19/20\n",
      "109/109 [==============================] - 255s 2s/step - loss: 0.0200 - acc: 0.9941 - val_loss: 0.0282 - val_acc: 0.9957\n",
      "Epoch 20/20\n",
      "109/109 [==============================] - 254s 2s/step - loss: 0.0203 - acc: 0.9944 - val_loss: 0.0322 - val_acc: 0.9936\n"
     ]
    }
   ],
   "source": [
    "tbCallBack = callbacks.TensorBoard(log_dir='./Graph', histogram_freq=0,  \n",
    "          write_graph=False, write_images=False)\n",
    "\n",
    "# fits the model on batches with real-time data augmentation:\n",
    "model_history = model.fit_generator(train_generator,\n",
    "                                    validation_data=(X_val, y_val),\n",
    "                                    shuffle=True,\n",
    "                                    epochs=n_epoch,\n",
    "                                    steps_per_epoch=np.ceil(X_train.shape[0]//batch_size),\n",
    "                                    callbacks=[tbCallBack],\n",
    "                                    verbose=1,\n",
    "                                    use_multiprocessing=True)"
   ]
  },
  {
   "cell_type": "markdown",
   "metadata": {},
   "source": [
    "Now that the model is trained, we can save it for further predictions.\n",
    "\n",
    "Use the script `predict.py [Model/model_name]` to obtain predictions and generate a .csv file for Kaggle"
   ]
  },
  {
   "cell_type": "code",
   "execution_count": 9,
   "metadata": {},
   "outputs": [
    {
     "name": "stdout",
     "output_type": "stream",
     "text": [
      "File VGG16_lr0.0001_train3_epochs20.h5 saved\n"
     ]
    }
   ],
   "source": [
    "# Save model and Exit\n",
    "if not os.path.isdir('Model'):\n",
    "    os.mkdir('Model')\n",
    "filename = 'VGG16_lr'+str(learning_rate)+'_train'+str(n_layers_train)+'_epochs'+str(n_epoch)+'.h5'\n",
    "\n",
    "model_file = os.path.join('Model', filename)\n",
    "model.save(model_file)\n",
    "print('File', filename, 'saved')\n"
   ]
  },
  {
   "cell_type": "markdown",
   "metadata": {},
   "source": [
    "## 4. Predict and submit\n",
    "\n",
    "Using the model that was trained in this notebook, the script is going to predict the results for the test set and directly submit the results to Kaggle"
   ]
  },
  {
   "cell_type": "code",
   "execution_count": 10,
   "metadata": {},
   "outputs": [
    {
     "data": {
      "text/plain": [
       "5550"
      ]
     },
     "execution_count": 10,
     "metadata": {},
     "output_type": "execute_result"
    }
   ],
   "source": [
    "import gc\n",
    "#delete when no longer needed\n",
    "del X_train, X_val, X_train_, model_history\n",
    "#collect residual garbage\n",
    "gc.collect()"
   ]
  },
  {
   "cell_type": "code",
   "execution_count": 1,
   "metadata": {},
   "outputs": [],
   "source": [
    "model_file='Model/VGG16_lr0.0001_train3_epochs20.h5'"
   ]
  },
  {
   "cell_type": "code",
   "execution_count": 2,
   "metadata": {},
   "outputs": [
    {
     "name": "stderr",
     "output_type": "stream",
     "text": [
      "Using TensorFlow backend.\n"
     ]
    },
    {
     "name": "stdout",
     "output_type": "stream",
     "text": [
      "Working with model Model/VGG16_lr0.0001_train3_epochs20.h5\n",
      "Load dataset test\n",
      "Dataset test loaded\n",
      "X_test shape: (79726, 224, 224, 3)\n",
      "79726/79726 [==============================] - 771s 10ms/step\n",
      "File VGG16_lr0.0001_train3_epochs20_2018-07-06-21-02 saved\n"
     ]
    }
   ],
   "source": [
    "%run -i 'predict.py' $model_file\n"
   ]
  },
  {
   "cell_type": "code",
   "execution_count": 1,
   "metadata": {},
   "outputs": [
    {
     "name": "stdout",
     "output_type": "stream",
     "text": [
      "Successfully submitted to State Farm Distracted Driver Detection"
     ]
    }
   ],
   "source": [
    "!kaggle competitions submit -c state-farm-distracted-driver-detection -f \"$(ls -t Output/submission-* | head -1)\" -m \".\"\n"
   ]
  },
  {
   "cell_type": "code",
   "execution_count": null,
   "metadata": {},
   "outputs": [],
   "source": []
  }
 ],
 "metadata": {
  "kernelspec": {
   "display_name": "Python 3",
   "language": "python",
   "name": "python3"
  },
  "language_info": {
   "codemirror_mode": {
    "name": "ipython",
    "version": 3
   },
   "file_extension": ".py",
   "mimetype": "text/x-python",
   "name": "python",
   "nbconvert_exporter": "python",
   "pygments_lexer": "ipython3",
   "version": "3.6.5"
  }
 },
 "nbformat": 4,
 "nbformat_minor": 2
}
